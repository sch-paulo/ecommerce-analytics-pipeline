{
 "cells": [
  {
   "cell_type": "markdown",
   "id": "c6e970f2",
   "metadata": {},
   "source": [
    "# Importing libraries"
   ]
  },
  {
   "cell_type": "code",
   "execution_count": 83,
   "id": "b511fa6f",
   "metadata": {},
   "outputs": [],
   "source": [
    "import pandas as pd\n",
    "import numpy as np"
   ]
  },
  {
   "cell_type": "markdown",
   "id": "dad7fc6e",
   "metadata": {},
   "source": [
    "# Importing data"
   ]
  },
  {
   "cell_type": "code",
   "execution_count": 84,
   "id": "8c8f118a",
   "metadata": {},
   "outputs": [
    {
     "data": {
      "text/html": [
       "<div>\n",
       "<style scoped>\n",
       "    .dataframe tbody tr th:only-of-type {\n",
       "        vertical-align: middle;\n",
       "    }\n",
       "\n",
       "    .dataframe tbody tr th {\n",
       "        vertical-align: top;\n",
       "    }\n",
       "\n",
       "    .dataframe thead th {\n",
       "        text-align: right;\n",
       "    }\n",
       "</style>\n",
       "<table border=\"1\" class=\"dataframe\">\n",
       "  <thead>\n",
       "    <tr style=\"text-align: right;\">\n",
       "      <th></th>\n",
       "      <th>InvoiceNo</th>\n",
       "      <th>StockCode</th>\n",
       "      <th>Description</th>\n",
       "      <th>Quantity</th>\n",
       "      <th>InvoiceDate</th>\n",
       "      <th>UnitPrice</th>\n",
       "      <th>CustomerID</th>\n",
       "      <th>Country</th>\n",
       "    </tr>\n",
       "  </thead>\n",
       "  <tbody>\n",
       "    <tr>\n",
       "      <th>0</th>\n",
       "      <td>536365</td>\n",
       "      <td>85123A</td>\n",
       "      <td>WHITE HANGING HEART T-LIGHT HOLDER</td>\n",
       "      <td>6</td>\n",
       "      <td>12/1/2010 8:26</td>\n",
       "      <td>2.55</td>\n",
       "      <td>17850.0</td>\n",
       "      <td>United Kingdom</td>\n",
       "    </tr>\n",
       "    <tr>\n",
       "      <th>1</th>\n",
       "      <td>536365</td>\n",
       "      <td>71053</td>\n",
       "      <td>WHITE METAL LANTERN</td>\n",
       "      <td>6</td>\n",
       "      <td>12/1/2010 8:26</td>\n",
       "      <td>3.39</td>\n",
       "      <td>17850.0</td>\n",
       "      <td>United Kingdom</td>\n",
       "    </tr>\n",
       "    <tr>\n",
       "      <th>2</th>\n",
       "      <td>536365</td>\n",
       "      <td>84406B</td>\n",
       "      <td>CREAM CUPID HEARTS COAT HANGER</td>\n",
       "      <td>8</td>\n",
       "      <td>12/1/2010 8:26</td>\n",
       "      <td>2.75</td>\n",
       "      <td>17850.0</td>\n",
       "      <td>United Kingdom</td>\n",
       "    </tr>\n",
       "    <tr>\n",
       "      <th>3</th>\n",
       "      <td>536365</td>\n",
       "      <td>84029G</td>\n",
       "      <td>KNITTED UNION FLAG HOT WATER BOTTLE</td>\n",
       "      <td>6</td>\n",
       "      <td>12/1/2010 8:26</td>\n",
       "      <td>3.39</td>\n",
       "      <td>17850.0</td>\n",
       "      <td>United Kingdom</td>\n",
       "    </tr>\n",
       "    <tr>\n",
       "      <th>4</th>\n",
       "      <td>536365</td>\n",
       "      <td>84029E</td>\n",
       "      <td>RED WOOLLY HOTTIE WHITE HEART.</td>\n",
       "      <td>6</td>\n",
       "      <td>12/1/2010 8:26</td>\n",
       "      <td>3.39</td>\n",
       "      <td>17850.0</td>\n",
       "      <td>United Kingdom</td>\n",
       "    </tr>\n",
       "  </tbody>\n",
       "</table>\n",
       "</div>"
      ],
      "text/plain": [
       "  InvoiceNo StockCode                          Description  Quantity  \\\n",
       "0    536365    85123A   WHITE HANGING HEART T-LIGHT HOLDER         6   \n",
       "1    536365     71053                  WHITE METAL LANTERN         6   \n",
       "2    536365    84406B       CREAM CUPID HEARTS COAT HANGER         8   \n",
       "3    536365    84029G  KNITTED UNION FLAG HOT WATER BOTTLE         6   \n",
       "4    536365    84029E       RED WOOLLY HOTTIE WHITE HEART.         6   \n",
       "\n",
       "      InvoiceDate  UnitPrice  CustomerID         Country  \n",
       "0  12/1/2010 8:26       2.55     17850.0  United Kingdom  \n",
       "1  12/1/2010 8:26       3.39     17850.0  United Kingdom  \n",
       "2  12/1/2010 8:26       2.75     17850.0  United Kingdom  \n",
       "3  12/1/2010 8:26       3.39     17850.0  United Kingdom  \n",
       "4  12/1/2010 8:26       3.39     17850.0  United Kingdom  "
      ]
     },
     "execution_count": 84,
     "metadata": {},
     "output_type": "execute_result"
    }
   ],
   "source": [
    "df = pd.read_csv('../data/data.csv', encoding='latin1')\n",
    "df.head()"
   ]
  },
  {
   "cell_type": "markdown",
   "id": "8db0f8f4",
   "metadata": {},
   "source": [
    "## Converting types"
   ]
  },
  {
   "cell_type": "markdown",
   "id": "4324a9be",
   "metadata": {},
   "source": [
    "Converting the `InvoiceDate` columns to a date type and `CustomerID` to string, since it's an ID."
   ]
  },
  {
   "cell_type": "code",
   "execution_count": 85,
   "id": "407e014f",
   "metadata": {},
   "outputs": [],
   "source": [
    "df['InvoiceDate'] = pd.to_datetime(df['InvoiceDate'])\n",
    "df['CustomerID'] = df['CustomerID'].fillna(0).astype(int)"
   ]
  },
  {
   "cell_type": "markdown",
   "id": "e8d41af1",
   "metadata": {},
   "source": [
    "# Handling missing and duplicated values"
   ]
  },
  {
   "cell_type": "markdown",
   "id": "058c0392",
   "metadata": {},
   "source": [
    "We will map the missing descriptions and try to fill them with `StockCode` corresponding description rows. If not found, fill it with *UNKNOWN PRODUCT*."
   ]
  },
  {
   "cell_type": "code",
   "execution_count": 86,
   "id": "cda954ec",
   "metadata": {},
   "outputs": [
    {
     "name": "stdout",
     "output_type": "stream",
     "text": [
      "Before mapping: 1454\n",
      "After mapping: 112\n"
     ]
    }
   ],
   "source": [
    "description_mapping = df.dropna(subset=['Description']).drop_duplicates('StockCode').set_index('StockCode')['Description']\n",
    "\n",
    "df_mis_dedup = df.copy()\n",
    "print(f'Before mapping: {df_mis_dedup['Description'].isna().sum()}')\n",
    "df_mis_dedup['Description'] = df_mis_dedup['Description'].fillna(df_mis_dedup['StockCode'].map(description_mapping))\n",
    "print(f'After mapping: {df_mis_dedup['Description'].isna().sum()}')\n",
    "df_mis_dedup['Description'] = df_mis_dedup['Description'].fillna('UNKNOWN PRODUCT')"
   ]
  },
  {
   "cell_type": "markdown",
   "id": "8a67217b",
   "metadata": {},
   "source": [
    "We will also drop full duplicated rows.\n",
    "We are considering a duplicated row as a row where every value of all the columns are the same as in another instance."
   ]
  },
  {
   "cell_type": "code",
   "execution_count": 87,
   "id": "abe33cc6",
   "metadata": {},
   "outputs": [
    {
     "name": "stdout",
     "output_type": "stream",
     "text": [
      "Duplicated values: 5268.\n"
     ]
    }
   ],
   "source": [
    "print(f'Duplicated values: {df_mis_dedup.duplicated().sum()}.')\n",
    "\n",
    "df_mis_dedup = df_mis_dedup.drop_duplicates()"
   ]
  },
  {
   "cell_type": "markdown",
   "id": "a6e64ade",
   "metadata": {},
   "source": [
    "# Flagging \"abnormal\" values"
   ]
  },
  {
   "cell_type": "markdown",
   "id": "58e2dd2b",
   "metadata": {},
   "source": [
    "Flagging missing `CustomerID` values (which we replaced by '0') to represent *Guest* buyers"
   ]
  },
  {
   "cell_type": "code",
   "execution_count": 88,
   "id": "b05b8809",
   "metadata": {},
   "outputs": [],
   "source": [
    "df_flag = df_mis_dedup.copy()\n",
    "df_flag['CustomerType'] = 'Client'\n",
    "df_flag.loc[df_flag['CustomerID'] == 0, 'CustomerType'] = 'Guest'"
   ]
  },
  {
   "cell_type": "markdown",
   "id": "3e9ac99d",
   "metadata": {},
   "source": [
    "Flagging negative `Quantity` and `UnitPrice` rows to represent returned purchases/discarded products and accounting adjusts, respectively."
   ]
  },
  {
   "cell_type": "code",
   "execution_count": 89,
   "id": "c26cfe34",
   "metadata": {},
   "outputs": [],
   "source": [
    "df_flag['TransactionType'] = 'Sale'\n",
    "df_flag.loc[df_flag['Quantity'] < 0, 'TransactionType'] = 'Return/Cancellation'\n",
    "df_flag.loc[df_flag['UnitPrice'] < 0, 'TransactionType'] = 'Adjustment'"
   ]
  },
  {
   "cell_type": "markdown",
   "id": "8e9af237",
   "metadata": {},
   "source": [
    "# Creating new business columns"
   ]
  },
  {
   "cell_type": "code",
   "execution_count": 90,
   "id": "c038f697",
   "metadata": {},
   "outputs": [
    {
     "data": {
      "text/html": [
       "<div>\n",
       "<style scoped>\n",
       "    .dataframe tbody tr th:only-of-type {\n",
       "        vertical-align: middle;\n",
       "    }\n",
       "\n",
       "    .dataframe tbody tr th {\n",
       "        vertical-align: top;\n",
       "    }\n",
       "\n",
       "    .dataframe thead th {\n",
       "        text-align: right;\n",
       "    }\n",
       "</style>\n",
       "<table border=\"1\" class=\"dataframe\">\n",
       "  <thead>\n",
       "    <tr style=\"text-align: right;\">\n",
       "      <th></th>\n",
       "      <th>InvoiceNo</th>\n",
       "      <th>StockCode</th>\n",
       "      <th>Description</th>\n",
       "      <th>Quantity</th>\n",
       "      <th>InvoiceDate</th>\n",
       "      <th>UnitPrice</th>\n",
       "      <th>CustomerID</th>\n",
       "      <th>Country</th>\n",
       "      <th>CustomerType</th>\n",
       "      <th>TransactionType</th>\n",
       "      <th>TotalAmount</th>\n",
       "    </tr>\n",
       "  </thead>\n",
       "  <tbody>\n",
       "    <tr>\n",
       "      <th>0</th>\n",
       "      <td>536365</td>\n",
       "      <td>85123A</td>\n",
       "      <td>WHITE HANGING HEART T-LIGHT HOLDER</td>\n",
       "      <td>6</td>\n",
       "      <td>2010-12-01 08:26:00</td>\n",
       "      <td>2.55</td>\n",
       "      <td>17850</td>\n",
       "      <td>United Kingdom</td>\n",
       "      <td>Client</td>\n",
       "      <td>Sale</td>\n",
       "      <td>15.30</td>\n",
       "    </tr>\n",
       "    <tr>\n",
       "      <th>1</th>\n",
       "      <td>536365</td>\n",
       "      <td>71053</td>\n",
       "      <td>WHITE METAL LANTERN</td>\n",
       "      <td>6</td>\n",
       "      <td>2010-12-01 08:26:00</td>\n",
       "      <td>3.39</td>\n",
       "      <td>17850</td>\n",
       "      <td>United Kingdom</td>\n",
       "      <td>Client</td>\n",
       "      <td>Sale</td>\n",
       "      <td>20.34</td>\n",
       "    </tr>\n",
       "    <tr>\n",
       "      <th>2</th>\n",
       "      <td>536365</td>\n",
       "      <td>84406B</td>\n",
       "      <td>CREAM CUPID HEARTS COAT HANGER</td>\n",
       "      <td>8</td>\n",
       "      <td>2010-12-01 08:26:00</td>\n",
       "      <td>2.75</td>\n",
       "      <td>17850</td>\n",
       "      <td>United Kingdom</td>\n",
       "      <td>Client</td>\n",
       "      <td>Sale</td>\n",
       "      <td>22.00</td>\n",
       "    </tr>\n",
       "    <tr>\n",
       "      <th>3</th>\n",
       "      <td>536365</td>\n",
       "      <td>84029G</td>\n",
       "      <td>KNITTED UNION FLAG HOT WATER BOTTLE</td>\n",
       "      <td>6</td>\n",
       "      <td>2010-12-01 08:26:00</td>\n",
       "      <td>3.39</td>\n",
       "      <td>17850</td>\n",
       "      <td>United Kingdom</td>\n",
       "      <td>Client</td>\n",
       "      <td>Sale</td>\n",
       "      <td>20.34</td>\n",
       "    </tr>\n",
       "    <tr>\n",
       "      <th>4</th>\n",
       "      <td>536365</td>\n",
       "      <td>84029E</td>\n",
       "      <td>RED WOOLLY HOTTIE WHITE HEART.</td>\n",
       "      <td>6</td>\n",
       "      <td>2010-12-01 08:26:00</td>\n",
       "      <td>3.39</td>\n",
       "      <td>17850</td>\n",
       "      <td>United Kingdom</td>\n",
       "      <td>Client</td>\n",
       "      <td>Sale</td>\n",
       "      <td>20.34</td>\n",
       "    </tr>\n",
       "  </tbody>\n",
       "</table>\n",
       "</div>"
      ],
      "text/plain": [
       "  InvoiceNo StockCode                          Description  Quantity  \\\n",
       "0    536365    85123A   WHITE HANGING HEART T-LIGHT HOLDER         6   \n",
       "1    536365     71053                  WHITE METAL LANTERN         6   \n",
       "2    536365    84406B       CREAM CUPID HEARTS COAT HANGER         8   \n",
       "3    536365    84029G  KNITTED UNION FLAG HOT WATER BOTTLE         6   \n",
       "4    536365    84029E       RED WOOLLY HOTTIE WHITE HEART.         6   \n",
       "\n",
       "          InvoiceDate  UnitPrice  CustomerID         Country CustomerType  \\\n",
       "0 2010-12-01 08:26:00       2.55       17850  United Kingdom       Client   \n",
       "1 2010-12-01 08:26:00       3.39       17850  United Kingdom       Client   \n",
       "2 2010-12-01 08:26:00       2.75       17850  United Kingdom       Client   \n",
       "3 2010-12-01 08:26:00       3.39       17850  United Kingdom       Client   \n",
       "4 2010-12-01 08:26:00       3.39       17850  United Kingdom       Client   \n",
       "\n",
       "  TransactionType  TotalAmount  \n",
       "0            Sale        15.30  \n",
       "1            Sale        20.34  \n",
       "2            Sale        22.00  \n",
       "3            Sale        20.34  \n",
       "4            Sale        20.34  "
      ]
     },
     "execution_count": 90,
     "metadata": {},
     "output_type": "execute_result"
    }
   ],
   "source": [
    "df_flag['TotalAmount'] = df_flag['Quantity'] * df_flag['UnitPrice']\n",
    "df_flag.head()"
   ]
  },
  {
   "cell_type": "markdown",
   "id": "ed796014",
   "metadata": {},
   "source": [
    "# Normalizing \n",
    "Let's normalize the wide table into several ones to avoid redundancy"
   ]
  },
  {
   "cell_type": "markdown",
   "id": "a0773df9",
   "metadata": {},
   "source": [
    "### Countries table"
   ]
  },
  {
   "cell_type": "code",
   "execution_count": 91,
   "id": "c23f58c8",
   "metadata": {},
   "outputs": [
    {
     "data": {
      "text/html": [
       "<div>\n",
       "<style scoped>\n",
       "    .dataframe tbody tr th:only-of-type {\n",
       "        vertical-align: middle;\n",
       "    }\n",
       "\n",
       "    .dataframe tbody tr th {\n",
       "        vertical-align: top;\n",
       "    }\n",
       "\n",
       "    .dataframe thead th {\n",
       "        text-align: right;\n",
       "    }\n",
       "</style>\n",
       "<table border=\"1\" class=\"dataframe\">\n",
       "  <thead>\n",
       "    <tr style=\"text-align: right;\">\n",
       "      <th></th>\n",
       "      <th>CountryID</th>\n",
       "      <th>CountryName</th>\n",
       "    </tr>\n",
       "  </thead>\n",
       "  <tbody>\n",
       "    <tr>\n",
       "      <th>0</th>\n",
       "      <td>AE</td>\n",
       "      <td>United Arab Emirates</td>\n",
       "    </tr>\n",
       "    <tr>\n",
       "      <th>1</th>\n",
       "      <td>AT</td>\n",
       "      <td>Austria</td>\n",
       "    </tr>\n",
       "    <tr>\n",
       "      <th>2</th>\n",
       "      <td>AU</td>\n",
       "      <td>Australia</td>\n",
       "    </tr>\n",
       "    <tr>\n",
       "      <th>3</th>\n",
       "      <td>BE</td>\n",
       "      <td>Belgium</td>\n",
       "    </tr>\n",
       "    <tr>\n",
       "      <th>4</th>\n",
       "      <td>BH</td>\n",
       "      <td>Bahrain</td>\n",
       "    </tr>\n",
       "  </tbody>\n",
       "</table>\n",
       "</div>"
      ],
      "text/plain": [
       "  CountryID           CountryName\n",
       "0        AE  United Arab Emirates\n",
       "1        AT               Austria\n",
       "2        AU             Australia\n",
       "3        BE               Belgium\n",
       "4        BH               Bahrain"
      ]
     },
     "execution_count": 91,
     "metadata": {},
     "output_type": "execute_result"
    }
   ],
   "source": [
    "country_map = {\n",
    "    'United Kingdom': 'UK',\n",
    "    'France': 'FR',\n",
    "    'Australia': 'AU',\n",
    "    'Netherlands': 'NL',\n",
    "    'Germany': 'DE',\n",
    "    'Norway': 'NO',\n",
    "    'EIRE': 'IE',\n",
    "    'Switzerland': 'CH',\n",
    "    'Spain': 'ES',\n",
    "    'Poland': 'PL',\n",
    "    'Portugal': 'PT',\n",
    "    'Italy': 'IT',\n",
    "    'Belgium': 'BE',\n",
    "    'Lithuania': 'LT',\n",
    "    'Japan': 'JP',\n",
    "    'Iceland': 'IS',\n",
    "    'Channel Islands': 'CI',\n",
    "    'Denmark': 'DK',\n",
    "    'Cyprus': 'CY',\n",
    "    'Sweden': 'SE',\n",
    "    'Austria': 'AT',\n",
    "    'Israel': 'IL',\n",
    "    'Finland': 'FI',\n",
    "    'Bahrain': 'BH',\n",
    "    'Greece': 'GR',\n",
    "    'Hong Kong': 'HK',\n",
    "    'Singapore': 'SG',\n",
    "    'Lebanon': 'LB',\n",
    "    'United Arab Emirates': 'AE',\n",
    "    'Saudi Arabia': 'SA',\n",
    "    'Czech Republic': 'CZ',\n",
    "    'Canada': 'CA',\n",
    "    'Unspecified': 'UNS',\n",
    "    'Brazil': 'BR',\n",
    "    'USA': 'US',\n",
    "    'European Community': 'EC',\n",
    "    'Malta': 'MT',\n",
    "    'RSA': 'ZA'\n",
    "}\n",
    "\n",
    "df_countryid = df_flag.copy()\n",
    "df_countryid['CountryID'] = df_countryid['Country'].map(country_map)\n",
    "\n",
    "countries_table = df_countryid[['CountryID', 'Country']].groupby('CountryID').first().reset_index()\n",
    "countries_table = countries_table.rename(columns={'Country': 'CountryName'})\n",
    "countries_table.head()"
   ]
  },
  {
   "cell_type": "markdown",
   "id": "03f69170",
   "metadata": {},
   "source": [
    "### Invoice table"
   ]
  },
  {
   "cell_type": "code",
   "execution_count": 92,
   "id": "a9d72fac",
   "metadata": {},
   "outputs": [
    {
     "data": {
      "text/html": [
       "<div>\n",
       "<style scoped>\n",
       "    .dataframe tbody tr th:only-of-type {\n",
       "        vertical-align: middle;\n",
       "    }\n",
       "\n",
       "    .dataframe tbody tr th {\n",
       "        vertical-align: top;\n",
       "    }\n",
       "\n",
       "    .dataframe thead th {\n",
       "        text-align: right;\n",
       "    }\n",
       "</style>\n",
       "<table border=\"1\" class=\"dataframe\">\n",
       "  <thead>\n",
       "    <tr style=\"text-align: right;\">\n",
       "      <th></th>\n",
       "      <th>InvoiceNo</th>\n",
       "      <th>InvoiceDate</th>\n",
       "      <th>CustomerID</th>\n",
       "    </tr>\n",
       "  </thead>\n",
       "  <tbody>\n",
       "    <tr>\n",
       "      <th>0</th>\n",
       "      <td>536365</td>\n",
       "      <td>2010-12-01 08:26:00</td>\n",
       "      <td>17850</td>\n",
       "    </tr>\n",
       "    <tr>\n",
       "      <th>1</th>\n",
       "      <td>536366</td>\n",
       "      <td>2010-12-01 08:28:00</td>\n",
       "      <td>17850</td>\n",
       "    </tr>\n",
       "    <tr>\n",
       "      <th>2</th>\n",
       "      <td>536367</td>\n",
       "      <td>2010-12-01 08:34:00</td>\n",
       "      <td>13047</td>\n",
       "    </tr>\n",
       "    <tr>\n",
       "      <th>3</th>\n",
       "      <td>536368</td>\n",
       "      <td>2010-12-01 08:34:00</td>\n",
       "      <td>13047</td>\n",
       "    </tr>\n",
       "    <tr>\n",
       "      <th>4</th>\n",
       "      <td>536369</td>\n",
       "      <td>2010-12-01 08:35:00</td>\n",
       "      <td>13047</td>\n",
       "    </tr>\n",
       "  </tbody>\n",
       "</table>\n",
       "</div>"
      ],
      "text/plain": [
       "  InvoiceNo         InvoiceDate  CustomerID\n",
       "0    536365 2010-12-01 08:26:00       17850\n",
       "1    536366 2010-12-01 08:28:00       17850\n",
       "2    536367 2010-12-01 08:34:00       13047\n",
       "3    536368 2010-12-01 08:34:00       13047\n",
       "4    536369 2010-12-01 08:35:00       13047"
      ]
     },
     "execution_count": 92,
     "metadata": {},
     "output_type": "execute_result"
    }
   ],
   "source": [
    "invoices_table = df_countryid[['InvoiceNo', 'InvoiceDate', 'CustomerID']]\n",
    "invoices_table = invoices_table.groupby('InvoiceNo').first().reset_index()\n",
    "invoices_table.head()"
   ]
  },
  {
   "cell_type": "markdown",
   "id": "f201b0b2",
   "metadata": {},
   "source": [
    "### Customers table"
   ]
  },
  {
   "cell_type": "code",
   "execution_count": 93,
   "id": "e2073b31",
   "metadata": {},
   "outputs": [
    {
     "data": {
      "text/html": [
       "<div>\n",
       "<style scoped>\n",
       "    .dataframe tbody tr th:only-of-type {\n",
       "        vertical-align: middle;\n",
       "    }\n",
       "\n",
       "    .dataframe tbody tr th {\n",
       "        vertical-align: top;\n",
       "    }\n",
       "\n",
       "    .dataframe thead th {\n",
       "        text-align: right;\n",
       "    }\n",
       "</style>\n",
       "<table border=\"1\" class=\"dataframe\">\n",
       "  <thead>\n",
       "    <tr style=\"text-align: right;\">\n",
       "      <th></th>\n",
       "      <th>CustomerID</th>\n",
       "      <th>CountryID</th>\n",
       "      <th>CustomerType</th>\n",
       "    </tr>\n",
       "  </thead>\n",
       "  <tbody>\n",
       "    <tr>\n",
       "      <th>0</th>\n",
       "      <td>0</td>\n",
       "      <td>UK</td>\n",
       "      <td>Guest</td>\n",
       "    </tr>\n",
       "    <tr>\n",
       "      <th>1</th>\n",
       "      <td>12346</td>\n",
       "      <td>UK</td>\n",
       "      <td>Client</td>\n",
       "    </tr>\n",
       "    <tr>\n",
       "      <th>2</th>\n",
       "      <td>12347</td>\n",
       "      <td>IS</td>\n",
       "      <td>Client</td>\n",
       "    </tr>\n",
       "    <tr>\n",
       "      <th>3</th>\n",
       "      <td>12348</td>\n",
       "      <td>FI</td>\n",
       "      <td>Client</td>\n",
       "    </tr>\n",
       "    <tr>\n",
       "      <th>4</th>\n",
       "      <td>12349</td>\n",
       "      <td>IT</td>\n",
       "      <td>Client</td>\n",
       "    </tr>\n",
       "  </tbody>\n",
       "</table>\n",
       "</div>"
      ],
      "text/plain": [
       "   CustomerID CountryID CustomerType\n",
       "0           0        UK        Guest\n",
       "1       12346        UK       Client\n",
       "2       12347        IS       Client\n",
       "3       12348        FI       Client\n",
       "4       12349        IT       Client"
      ]
     },
     "execution_count": 93,
     "metadata": {},
     "output_type": "execute_result"
    }
   ],
   "source": [
    "customers_table = df_countryid[['CustomerID', 'CountryID', 'CustomerType']]\n",
    "customers_table = customers_table.groupby('CustomerID').first().reset_index()\n",
    "customers_table.head()"
   ]
  },
  {
   "cell_type": "markdown",
   "id": "c13668c8",
   "metadata": {},
   "source": [
    "### Products table"
   ]
  },
  {
   "cell_type": "code",
   "execution_count": 94,
   "id": "fc932e87",
   "metadata": {},
   "outputs": [
    {
     "data": {
      "text/html": [
       "<div>\n",
       "<style scoped>\n",
       "    .dataframe tbody tr th:only-of-type {\n",
       "        vertical-align: middle;\n",
       "    }\n",
       "\n",
       "    .dataframe tbody tr th {\n",
       "        vertical-align: top;\n",
       "    }\n",
       "\n",
       "    .dataframe thead th {\n",
       "        text-align: right;\n",
       "    }\n",
       "</style>\n",
       "<table border=\"1\" class=\"dataframe\">\n",
       "  <thead>\n",
       "    <tr style=\"text-align: right;\">\n",
       "      <th></th>\n",
       "      <th>StockCode</th>\n",
       "      <th>Description</th>\n",
       "    </tr>\n",
       "  </thead>\n",
       "  <tbody>\n",
       "    <tr>\n",
       "      <th>0</th>\n",
       "      <td>10002</td>\n",
       "      <td>INFLATABLE POLITICAL GLOBE</td>\n",
       "    </tr>\n",
       "    <tr>\n",
       "      <th>1</th>\n",
       "      <td>10080</td>\n",
       "      <td>GROOVY CACTUS INFLATABLE</td>\n",
       "    </tr>\n",
       "    <tr>\n",
       "      <th>2</th>\n",
       "      <td>10120</td>\n",
       "      <td>DOGGY RUBBER</td>\n",
       "    </tr>\n",
       "    <tr>\n",
       "      <th>3</th>\n",
       "      <td>10123C</td>\n",
       "      <td>HEARTS WRAPPING TAPE</td>\n",
       "    </tr>\n",
       "    <tr>\n",
       "      <th>4</th>\n",
       "      <td>10123G</td>\n",
       "      <td>UNKNOWN PRODUCT</td>\n",
       "    </tr>\n",
       "  </tbody>\n",
       "</table>\n",
       "</div>"
      ],
      "text/plain": [
       "  StockCode                  Description\n",
       "0     10002  INFLATABLE POLITICAL GLOBE \n",
       "1     10080     GROOVY CACTUS INFLATABLE\n",
       "2     10120                 DOGGY RUBBER\n",
       "3    10123C        HEARTS WRAPPING TAPE \n",
       "4    10123G              UNKNOWN PRODUCT"
      ]
     },
     "execution_count": 94,
     "metadata": {},
     "output_type": "execute_result"
    }
   ],
   "source": [
    "products_table = df_countryid[['StockCode', 'Description']]\n",
    "products_table = products_table.groupby('StockCode')['Description'].apply(lambda x: x.mode()[0]).reset_index()\n",
    "products_table.head()"
   ]
  },
  {
   "cell_type": "markdown",
   "id": "ee1e9b42",
   "metadata": {},
   "source": [
    "### Transactions table"
   ]
  },
  {
   "cell_type": "markdown",
   "id": "35040d23",
   "metadata": {},
   "source": [
    "We will create `LineNo` to represent the line item of the correspondent invoice. This will help us creating the composite key for ingestion into the database ."
   ]
  },
  {
   "cell_type": "code",
   "execution_count": 95,
   "id": "bead4904",
   "metadata": {},
   "outputs": [
    {
     "data": {
      "text/html": [
       "<div>\n",
       "<style scoped>\n",
       "    .dataframe tbody tr th:only-of-type {\n",
       "        vertical-align: middle;\n",
       "    }\n",
       "\n",
       "    .dataframe tbody tr th {\n",
       "        vertical-align: top;\n",
       "    }\n",
       "\n",
       "    .dataframe thead th {\n",
       "        text-align: right;\n",
       "    }\n",
       "</style>\n",
       "<table border=\"1\" class=\"dataframe\">\n",
       "  <thead>\n",
       "    <tr style=\"text-align: right;\">\n",
       "      <th></th>\n",
       "      <th>InvoiceNo</th>\n",
       "      <th>StockCode</th>\n",
       "      <th>Quantity</th>\n",
       "      <th>UnitPrice</th>\n",
       "      <th>TotalAmount</th>\n",
       "      <th>TransactionType</th>\n",
       "      <th>LineNo</th>\n",
       "    </tr>\n",
       "  </thead>\n",
       "  <tbody>\n",
       "    <tr>\n",
       "      <th>0</th>\n",
       "      <td>536365</td>\n",
       "      <td>85123A</td>\n",
       "      <td>6</td>\n",
       "      <td>2.55</td>\n",
       "      <td>15.30</td>\n",
       "      <td>Sale</td>\n",
       "      <td>1</td>\n",
       "    </tr>\n",
       "    <tr>\n",
       "      <th>1</th>\n",
       "      <td>536365</td>\n",
       "      <td>71053</td>\n",
       "      <td>6</td>\n",
       "      <td>3.39</td>\n",
       "      <td>20.34</td>\n",
       "      <td>Sale</td>\n",
       "      <td>2</td>\n",
       "    </tr>\n",
       "    <tr>\n",
       "      <th>2</th>\n",
       "      <td>536365</td>\n",
       "      <td>84406B</td>\n",
       "      <td>8</td>\n",
       "      <td>2.75</td>\n",
       "      <td>22.00</td>\n",
       "      <td>Sale</td>\n",
       "      <td>3</td>\n",
       "    </tr>\n",
       "    <tr>\n",
       "      <th>3</th>\n",
       "      <td>536365</td>\n",
       "      <td>84029G</td>\n",
       "      <td>6</td>\n",
       "      <td>3.39</td>\n",
       "      <td>20.34</td>\n",
       "      <td>Sale</td>\n",
       "      <td>4</td>\n",
       "    </tr>\n",
       "    <tr>\n",
       "      <th>4</th>\n",
       "      <td>536365</td>\n",
       "      <td>84029E</td>\n",
       "      <td>6</td>\n",
       "      <td>3.39</td>\n",
       "      <td>20.34</td>\n",
       "      <td>Sale</td>\n",
       "      <td>5</td>\n",
       "    </tr>\n",
       "  </tbody>\n",
       "</table>\n",
       "</div>"
      ],
      "text/plain": [
       "  InvoiceNo StockCode  Quantity  UnitPrice  TotalAmount TransactionType  \\\n",
       "0    536365    85123A         6       2.55        15.30            Sale   \n",
       "1    536365     71053         6       3.39        20.34            Sale   \n",
       "2    536365    84406B         8       2.75        22.00            Sale   \n",
       "3    536365    84029G         6       3.39        20.34            Sale   \n",
       "4    536365    84029E         6       3.39        20.34            Sale   \n",
       "\n",
       "   LineNo  \n",
       "0       1  \n",
       "1       2  \n",
       "2       3  \n",
       "3       4  \n",
       "4       5  "
      ]
     },
     "execution_count": 95,
     "metadata": {},
     "output_type": "execute_result"
    }
   ],
   "source": [
    "transactions_table = df_countryid.copy()\n",
    "transactions_table = transactions_table[['InvoiceNo', 'StockCode', 'Quantity', 'UnitPrice', 'TotalAmount', 'TransactionType']]\n",
    "transactions_table['LineNo'] = transactions_table.groupby('InvoiceNo').cumcount() + 1\n",
    "transactions_table.head()"
   ]
  }
 ],
 "metadata": {
  "kernelspec": {
   "display_name": "ecommerce-analytics-pipeline",
   "language": "python",
   "name": "python3"
  },
  "language_info": {
   "codemirror_mode": {
    "name": "ipython",
    "version": 3
   },
   "file_extension": ".py",
   "mimetype": "text/x-python",
   "name": "python",
   "nbconvert_exporter": "python",
   "pygments_lexer": "ipython3",
   "version": "3.12.8"
  }
 },
 "nbformat": 4,
 "nbformat_minor": 5
}
